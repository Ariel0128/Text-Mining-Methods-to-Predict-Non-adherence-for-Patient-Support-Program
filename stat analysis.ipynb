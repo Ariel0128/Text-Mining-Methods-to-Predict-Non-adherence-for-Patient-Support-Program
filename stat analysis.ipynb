{
 "cells": [
  {
   "cell_type": "code",
   "execution_count": 1,
   "metadata": {},
   "outputs": [],
   "source": [
    "import pandas as pd\n",
    "import numpy as np\n",
    "\n",
    "import scipy.stats as stats\n",
    "import os\n",
    "import random\n",
    "\n",
    "import statsmodels.api as sm\n",
    "import statsmodels.stats.multicomp as mc\n",
    "\n",
    "\n",
    "from statsmodels.formula.api import ols\n",
    "from statsmodels.stats.anova import anova_lm\n",
    "import matplotlib.pyplot as plt\n",
    "from scipy import stats\n",
    "import seaborn as sns"
   ]
  },
  {
   "cell_type": "code",
   "execution_count": 2,
   "metadata": {},
   "outputs": [],
   "source": [
    "df = pd.read_csv('merged_stat.csv')\n"
   ]
  },
  {
   "cell_type": "code",
   "execution_count": 39,
   "metadata": {},
   "outputs": [
    {
     "data": {
      "text/html": [
       "<div>\n",
       "<style scoped>\n",
       "    .dataframe tbody tr th:only-of-type {\n",
       "        vertical-align: middle;\n",
       "    }\n",
       "\n",
       "    .dataframe tbody tr th {\n",
       "        vertical-align: top;\n",
       "    }\n",
       "\n",
       "    .dataframe thead th {\n",
       "        text-align: right;\n",
       "    }\n",
       "</style>\n",
       "<table border=\"1\" class=\"dataframe\">\n",
       "  <thead>\n",
       "    <tr style=\"text-align: right;\">\n",
       "      <th></th>\n",
       "      <th>Unnamed: 0</th>\n",
       "      <th>sentiment1</th>\n",
       "      <th>sentiment2</th>\n",
       "      <th>sentiment_normalised</th>\n",
       "      <th>wordcount</th>\n",
       "      <th>nmf_topics</th>\n",
       "      <th>lda_topics</th>\n",
       "    </tr>\n",
       "  </thead>\n",
       "  <tbody>\n",
       "    <tr>\n",
       "      <td>count</td>\n",
       "      <td>1313.000000</td>\n",
       "      <td>1313.000000</td>\n",
       "      <td>1313.000000</td>\n",
       "      <td>1313.000000</td>\n",
       "      <td>1313.000000</td>\n",
       "      <td>1313.000000</td>\n",
       "      <td>1313.000000</td>\n",
       "    </tr>\n",
       "    <tr>\n",
       "      <td>mean</td>\n",
       "      <td>656.000000</td>\n",
       "      <td>25.712110</td>\n",
       "      <td>0.111648</td>\n",
       "      <td>0.019926</td>\n",
       "      <td>565.244478</td>\n",
       "      <td>4.345773</td>\n",
       "      <td>5.484387</td>\n",
       "    </tr>\n",
       "    <tr>\n",
       "      <td>std</td>\n",
       "      <td>379.174762</td>\n",
       "      <td>24.646915</td>\n",
       "      <td>0.076778</td>\n",
       "      <td>0.019101</td>\n",
       "      <td>368.656268</td>\n",
       "      <td>2.852980</td>\n",
       "      <td>2.776745</td>\n",
       "    </tr>\n",
       "    <tr>\n",
       "      <td>min</td>\n",
       "      <td>0.000000</td>\n",
       "      <td>-87.000000</td>\n",
       "      <td>-0.060815</td>\n",
       "      <td>-0.067423</td>\n",
       "      <td>1.000000</td>\n",
       "      <td>0.000000</td>\n",
       "      <td>0.000000</td>\n",
       "    </tr>\n",
       "    <tr>\n",
       "      <td>25%</td>\n",
       "      <td>328.000000</td>\n",
       "      <td>7.000000</td>\n",
       "      <td>0.057943</td>\n",
       "      <td>0.005425</td>\n",
       "      <td>321.000000</td>\n",
       "      <td>2.000000</td>\n",
       "      <td>3.000000</td>\n",
       "    </tr>\n",
       "    <tr>\n",
       "      <td>50%</td>\n",
       "      <td>656.000000</td>\n",
       "      <td>24.000000</td>\n",
       "      <td>0.107139</td>\n",
       "      <td>0.018599</td>\n",
       "      <td>526.000000</td>\n",
       "      <td>4.000000</td>\n",
       "      <td>6.000000</td>\n",
       "    </tr>\n",
       "    <tr>\n",
       "      <td>75%</td>\n",
       "      <td>984.000000</td>\n",
       "      <td>42.000000</td>\n",
       "      <td>0.160173</td>\n",
       "      <td>0.032549</td>\n",
       "      <td>759.000000</td>\n",
       "      <td>7.000000</td>\n",
       "      <td>7.000000</td>\n",
       "    </tr>\n",
       "    <tr>\n",
       "      <td>max</td>\n",
       "      <td>1312.000000</td>\n",
       "      <td>126.000000</td>\n",
       "      <td>0.533333</td>\n",
       "      <td>0.097647</td>\n",
       "      <td>2134.000000</td>\n",
       "      <td>9.000000</td>\n",
       "      <td>9.000000</td>\n",
       "    </tr>\n",
       "  </tbody>\n",
       "</table>\n",
       "</div>"
      ],
      "text/plain": [
       "        Unnamed: 0   sentiment1   sentiment2  sentiment_normalised  \\\n",
       "count  1313.000000  1313.000000  1313.000000           1313.000000   \n",
       "mean    656.000000    25.712110     0.111648              0.019926   \n",
       "std     379.174762    24.646915     0.076778              0.019101   \n",
       "min       0.000000   -87.000000    -0.060815             -0.067423   \n",
       "25%     328.000000     7.000000     0.057943              0.005425   \n",
       "50%     656.000000    24.000000     0.107139              0.018599   \n",
       "75%     984.000000    42.000000     0.160173              0.032549   \n",
       "max    1312.000000   126.000000     0.533333              0.097647   \n",
       "\n",
       "         wordcount   nmf_topics   lda_topics  \n",
       "count  1313.000000  1313.000000  1313.000000  \n",
       "mean    565.244478     4.345773     5.484387  \n",
       "std     368.656268     2.852980     2.776745  \n",
       "min       1.000000     0.000000     0.000000  \n",
       "25%     321.000000     2.000000     3.000000  \n",
       "50%     526.000000     4.000000     6.000000  \n",
       "75%     759.000000     7.000000     7.000000  \n",
       "max    2134.000000     9.000000     9.000000  "
      ]
     },
     "execution_count": 39,
     "metadata": {},
     "output_type": "execute_result"
    }
   ],
   "source": [
    "df.describe()"
   ]
  },
  {
   "cell_type": "code",
   "execution_count": 19,
   "metadata": {},
   "outputs": [
    {
     "data": {
      "text/plain": [
       "<matplotlib.legend.Legend at 0x1c28035510>"
      ]
     },
     "execution_count": 19,
     "metadata": {},
     "output_type": "execute_result"
    },
    {
     "data": {
      "image/png": "[encoded data removed]",
      "text/plain": [
       "<Figure size 432x288 with 1 Axes>"
      ]
     },
     "metadata": {
      "needs_background": "light"
     },
     "output_type": "display_data"
    }
   ],
   "source": [
    "bins= np.linspace(-0.07,0.1,30)\n",
    "bins2 = np.linspace(-90,130,30)\n",
    "plt.hist(ad_senti,bins2,alpha=0.5,label='adherent')\n",
    "plt.hist(nonad_senti,bins2,alpha=0.5,label='non-adherent')\n",
    "plt.legend()"
   ]
  },
  {
   "cell_type": "code",
   "execution_count": 14,
   "metadata": {},
   "outputs": [
    {
     "data": {
      "text/plain": [
       "(array([  1.,   0.,   1.,   1.,   2.,   2.,   1.,   6.,   7.,  12.,  23.,\n",
       "        194., 102., 162., 130., 156., 140., 116., 100.,  59.,  41.,  20.,\n",
       "         17.,   8.,   7.,   2.,   1.,   1.,   1.]),\n",
       " array([-90.        , -82.4137931 , -74.82758621, -67.24137931,\n",
       "        -59.65517241, -52.06896552, -44.48275862, -36.89655172,\n",
       "        -29.31034483, -21.72413793, -14.13793103,  -6.55172414,\n",
       "          1.03448276,   8.62068966,  16.20689655,  23.79310345,\n",
       "         31.37931034,  38.96551724,  46.55172414,  54.13793103,\n",
       "         61.72413793,  69.31034483,  76.89655172,  84.48275862,\n",
       "         92.06896552,  99.65517241, 107.24137931, 114.82758621,\n",
       "        122.4137931 , 130.        ]),\n",
       " <a list of 29 Patch objects>)"
      ]
     },
     "execution_count": 14,
     "metadata": {},
     "output_type": "execute_result"
    },
    {
     "data": {
      "image/png": "[encoded data removed]",
      "text/plain": [
       "<Figure size 432x288 with 1 Axes>"
      ]
     },
     "metadata": {
      "needs_background": "light"
     },
     "output_type": "display_data"
    }
   ],
   "source": [
    "plt.hist(df['sentiment1'],bins2)"
   ]
  },
  {
   "cell_type": "code",
   "execution_count": 12,
   "metadata": {},
   "outputs": [],
   "source": [
    "np.random.seed(1234)"
   ]
  },
  {
   "cell_type": "code",
   "execution_count": 26,
   "metadata": {},
   "outputs": [],
   "source": [
    "def anova(data1,data2,n):\n",
    "    sample1 = random.sample(list(data1),n)\n",
    "    sample2 = random.sample(list(data2),n)\n",
    "    F, p = stats.f_oneway(sample1,sample2)\n",
    "    return F, p"
   ]
  },
  {
   "cell_type": "code",
   "execution_count": 3,
   "metadata": {},
   "outputs": [
    {
     "data": {
      "text/plain": [
       "957"
      ]
     },
     "execution_count": 3,
     "metadata": {},
     "output_type": "execute_result"
    }
   ],
   "source": [
    "ad_senti= df[df['CurrentStatus']=='Complete']['sentiment1']\n",
    "ad_senti.count()"
   ]
  },
  {
   "cell_type": "code",
   "execution_count": 4,
   "metadata": {},
   "outputs": [
    {
     "data": {
      "text/plain": [
       "223"
      ]
     },
     "execution_count": 4,
     "metadata": {},
     "output_type": "execute_result"
    }
   ],
   "source": [
    "nonad_senti = df[df['CurrentStatus']=='Ceased']['sentiment1']\n",
    "nonad_senti.count()"
   ]
  },
  {
   "cell_type": "code",
   "execution_count": 63,
   "metadata": {},
   "outputs": [
    {
     "data": {
      "text/plain": [
       "(66.4920767758456, 4.630248907381157e-15)"
      ]
     },
     "execution_count": 63,
     "metadata": {},
     "output_type": "execute_result"
    }
   ],
   "source": [
    "anova(ad_senti,nonad_senti,200)"
   ]
  },
  {
   "cell_type": "markdown",
   "metadata": {},
   "source": [
    "### There is a significant difference among the groups"
   ]
  },
  {
   "cell_type": "code",
   "execution_count": 33,
   "metadata": {},
   "outputs": [],
   "source": [
    "comp = mc.MultiComparison(df['sentiment_normalised'],df['CurrentStatus'])"
   ]
  },
  {
   "cell_type": "code",
   "execution_count": 34,
   "metadata": {},
   "outputs": [
    {
     "data": {
      "text/plain": [
       "<statsmodels.sandbox.stats.multicomp.TukeyHSDResults at 0x1c1b58ac10>"
      ]
     },
     "execution_count": 34,
     "metadata": {},
     "output_type": "execute_result"
    }
   ],
   "source": [
    "comp.tukeyhsd()"
   ]
  },
  {
   "cell_type": "code",
   "execution_count": 36,
   "metadata": {},
   "outputs": [
    {
     "name": "stdout",
     "output_type": "stream",
     "text": [
      "  Multiple Comparison of Means - Tukey HSD, FWER=0.05  \n",
      "=======================================================\n",
      " group1   group2  meandiff p-adj  lower   upper  reject\n",
      "-------------------------------------------------------\n",
      "  Ceased Complete   0.0129 0.001  0.0099   0.016   True\n",
      "  Ceased Enrolled  -0.0108 0.001 -0.0153 -0.0063   True\n",
      "Complete Enrolled  -0.0237 0.001 -0.0275   -0.02   True\n",
      "-------------------------------------------------------\n"
     ]
    }
   ],
   "source": [
    "print(comp.tukeyhsd())"
   ]
  },
  {
   "cell_type": "markdown",
   "metadata": {},
   "source": [
    "meandiff = group2-group1\n",
    "\n",
    "### polarity of complete pt is 111.4% higher than that of ceased pt\n",
    "### polarity of ceased pt is 52.7% lower than that of complete pt"
   ]
  },
  {
   "cell_type": "code",
   "execution_count": 29,
   "metadata": {},
   "outputs": [
    {
     "data": {
      "text/plain": [
       "31.644723092998955"
      ]
     },
     "execution_count": 29,
     "metadata": {},
     "output_type": "execute_result"
    }
   ],
   "source": [
    "ad_senti.mean()"
   ]
  },
  {
   "cell_type": "code",
   "execution_count": 33,
   "metadata": {},
   "outputs": [
    {
     "data": {
      "text/html": [
       "<div>\n",
       "<style scoped>\n",
       "    .dataframe tbody tr th:only-of-type {\n",
       "        vertical-align: middle;\n",
       "    }\n",
       "\n",
       "    .dataframe tbody tr th {\n",
       "        vertical-align: top;\n",
       "    }\n",
       "\n",
       "    .dataframe thead th {\n",
       "        text-align: right;\n",
       "    }\n",
       "</style>\n",
       "<table border=\"1\" class=\"dataframe\">\n",
       "  <thead>\n",
       "    <tr style=\"text-align: right;\">\n",
       "      <th></th>\n",
       "      <th>Unnamed: 0</th>\n",
       "      <th>sentiment1</th>\n",
       "      <th>sentiment2</th>\n",
       "      <th>sentiment_normalised</th>\n",
       "      <th>wordcount</th>\n",
       "      <th>nmf_topics</th>\n",
       "      <th>lda_topics</th>\n",
       "    </tr>\n",
       "  </thead>\n",
       "  <tbody>\n",
       "    <tr>\n",
       "      <td>count</td>\n",
       "      <td>957.000000</td>\n",
       "      <td>957.000000</td>\n",
       "      <td>957.000000</td>\n",
       "      <td>957.000000</td>\n",
       "      <td>957.000000</td>\n",
       "      <td>957.000000</td>\n",
       "      <td>957.000000</td>\n",
       "    </tr>\n",
       "    <tr>\n",
       "      <td>mean</td>\n",
       "      <td>579.286311</td>\n",
       "      <td>31.644723</td>\n",
       "      <td>0.125754</td>\n",
       "      <td>0.024524</td>\n",
       "      <td>655.298851</td>\n",
       "      <td>4.631139</td>\n",
       "      <td>5.531870</td>\n",
       "    </tr>\n",
       "    <tr>\n",
       "      <td>std</td>\n",
       "      <td>346.987766</td>\n",
       "      <td>24.310819</td>\n",
       "      <td>0.067975</td>\n",
       "      <td>0.018840</td>\n",
       "      <td>335.834912</td>\n",
       "      <td>2.834853</td>\n",
       "      <td>2.762624</td>\n",
       "    </tr>\n",
       "    <tr>\n",
       "      <td>min</td>\n",
       "      <td>0.000000</td>\n",
       "      <td>-87.000000</td>\n",
       "      <td>-0.060815</td>\n",
       "      <td>-0.067423</td>\n",
       "      <td>1.000000</td>\n",
       "      <td>0.000000</td>\n",
       "      <td>0.000000</td>\n",
       "    </tr>\n",
       "    <tr>\n",
       "      <td>25%</td>\n",
       "      <td>290.000000</td>\n",
       "      <td>15.000000</td>\n",
       "      <td>0.078953</td>\n",
       "      <td>0.011625</td>\n",
       "      <td>426.000000</td>\n",
       "      <td>3.000000</td>\n",
       "      <td>5.000000</td>\n",
       "    </tr>\n",
       "    <tr>\n",
       "      <td>50%</td>\n",
       "      <td>568.000000</td>\n",
       "      <td>31.000000</td>\n",
       "      <td>0.121051</td>\n",
       "      <td>0.024024</td>\n",
       "      <td>593.000000</td>\n",
       "      <td>5.000000</td>\n",
       "      <td>6.000000</td>\n",
       "    </tr>\n",
       "    <tr>\n",
       "      <td>75%</td>\n",
       "      <td>861.000000</td>\n",
       "      <td>47.000000</td>\n",
       "      <td>0.167062</td>\n",
       "      <td>0.036424</td>\n",
       "      <td>813.000000</td>\n",
       "      <td>7.000000</td>\n",
       "      <td>7.000000</td>\n",
       "    </tr>\n",
       "    <tr>\n",
       "      <td>max</td>\n",
       "      <td>1262.000000</td>\n",
       "      <td>126.000000</td>\n",
       "      <td>0.364782</td>\n",
       "      <td>0.097647</td>\n",
       "      <td>2134.000000</td>\n",
       "      <td>9.000000</td>\n",
       "      <td>9.000000</td>\n",
       "    </tr>\n",
       "  </tbody>\n",
       "</table>\n",
       "</div>"
      ],
      "text/plain": [
       "        Unnamed: 0  sentiment1  sentiment2  sentiment_normalised    wordcount  \\\n",
       "count   957.000000  957.000000  957.000000            957.000000   957.000000   \n",
       "mean    579.286311   31.644723    0.125754              0.024524   655.298851   \n",
       "std     346.987766   24.310819    0.067975              0.018840   335.834912   \n",
       "min       0.000000  -87.000000   -0.060815             -0.067423     1.000000   \n",
       "25%     290.000000   15.000000    0.078953              0.011625   426.000000   \n",
       "50%     568.000000   31.000000    0.121051              0.024024   593.000000   \n",
       "75%     861.000000   47.000000    0.167062              0.036424   813.000000   \n",
       "max    1262.000000  126.000000    0.364782              0.097647  2134.000000   \n",
       "\n",
       "       nmf_topics  lda_topics  \n",
       "count  957.000000  957.000000  \n",
       "mean     4.631139    5.531870  \n",
       "std      2.834853    2.762624  \n",
       "min      0.000000    0.000000  \n",
       "25%      3.000000    5.000000  \n",
       "50%      5.000000    6.000000  \n",
       "75%      7.000000    7.000000  \n",
       "max      9.000000    9.000000  "
      ]
     },
     "execution_count": 33,
     "metadata": {},
     "output_type": "execute_result"
    }
   ],
   "source": [
    "df1= df[df['CurrentStatus']=='Complete']\n",
    "df1.describe()"
   ]
  },
  {
   "cell_type": "code",
   "execution_count": 40,
   "metadata": {},
   "outputs": [
    {
     "data": {
      "text/html": [
       "<div>\n",
       "<style scoped>\n",
       "    .dataframe tbody tr th:only-of-type {\n",
       "        vertical-align: middle;\n",
       "    }\n",
       "\n",
       "    .dataframe tbody tr th {\n",
       "        vertical-align: top;\n",
       "    }\n",
       "\n",
       "    .dataframe thead th {\n",
       "        text-align: right;\n",
       "    }\n",
       "</style>\n",
       "<table border=\"1\" class=\"dataframe\">\n",
       "  <thead>\n",
       "    <tr style=\"text-align: right;\">\n",
       "      <th></th>\n",
       "      <th>Unnamed: 0</th>\n",
       "      <th>sentiment1</th>\n",
       "      <th>sentiment2</th>\n",
       "      <th>sentiment_normalised</th>\n",
       "      <th>wordcount</th>\n",
       "      <th>nmf_topics</th>\n",
       "      <th>lda_topics</th>\n",
       "    </tr>\n",
       "  </thead>\n",
       "  <tbody>\n",
       "    <tr>\n",
       "      <td>count</td>\n",
       "      <td>223.000000</td>\n",
       "      <td>223.000000</td>\n",
       "      <td>223.000000</td>\n",
       "      <td>223.000000</td>\n",
       "      <td>223.000000</td>\n",
       "      <td>223.000000</td>\n",
       "      <td>223.000000</td>\n",
       "    </tr>\n",
       "    <tr>\n",
       "      <td>mean</td>\n",
       "      <td>673.134529</td>\n",
       "      <td>14.968610</td>\n",
       "      <td>0.101831</td>\n",
       "      <td>0.011600</td>\n",
       "      <td>500.618834</td>\n",
       "      <td>4.775785</td>\n",
       "      <td>4.260090</td>\n",
       "    </tr>\n",
       "    <tr>\n",
       "      <td>std</td>\n",
       "      <td>367.779972</td>\n",
       "      <td>20.101407</td>\n",
       "      <td>0.078157</td>\n",
       "      <td>0.015578</td>\n",
       "      <td>315.486515</td>\n",
       "      <td>2.596593</td>\n",
       "      <td>2.649932</td>\n",
       "    </tr>\n",
       "    <tr>\n",
       "      <td>min</td>\n",
       "      <td>4.000000</td>\n",
       "      <td>-74.000000</td>\n",
       "      <td>-0.046936</td>\n",
       "      <td>-0.057348</td>\n",
       "      <td>1.000000</td>\n",
       "      <td>0.000000</td>\n",
       "      <td>0.000000</td>\n",
       "    </tr>\n",
       "    <tr>\n",
       "      <td>25%</td>\n",
       "      <td>366.000000</td>\n",
       "      <td>3.000000</td>\n",
       "      <td>0.049766</td>\n",
       "      <td>0.002325</td>\n",
       "      <td>278.000000</td>\n",
       "      <td>3.000000</td>\n",
       "      <td>3.000000</td>\n",
       "    </tr>\n",
       "    <tr>\n",
       "      <td>50%</td>\n",
       "      <td>709.000000</td>\n",
       "      <td>15.000000</td>\n",
       "      <td>0.091956</td>\n",
       "      <td>0.011625</td>\n",
       "      <td>443.000000</td>\n",
       "      <td>5.000000</td>\n",
       "      <td>3.000000</td>\n",
       "    </tr>\n",
       "    <tr>\n",
       "      <td>75%</td>\n",
       "      <td>973.500000</td>\n",
       "      <td>27.500000</td>\n",
       "      <td>0.144618</td>\n",
       "      <td>0.021312</td>\n",
       "      <td>676.000000</td>\n",
       "      <td>7.000000</td>\n",
       "      <td>6.000000</td>\n",
       "    </tr>\n",
       "    <tr>\n",
       "      <td>max</td>\n",
       "      <td>1282.000000</td>\n",
       "      <td>79.000000</td>\n",
       "      <td>0.533333</td>\n",
       "      <td>0.061223</td>\n",
       "      <td>1872.000000</td>\n",
       "      <td>9.000000</td>\n",
       "      <td>9.000000</td>\n",
       "    </tr>\n",
       "  </tbody>\n",
       "</table>\n",
       "</div>"
      ],
      "text/plain": [
       "        Unnamed: 0  sentiment1  sentiment2  sentiment_normalised    wordcount  \\\n",
       "count   223.000000  223.000000  223.000000            223.000000   223.000000   \n",
       "mean    673.134529   14.968610    0.101831              0.011600   500.618834   \n",
       "std     367.779972   20.101407    0.078157              0.015578   315.486515   \n",
       "min       4.000000  -74.000000   -0.046936             -0.057348     1.000000   \n",
       "25%     366.000000    3.000000    0.049766              0.002325   278.000000   \n",
       "50%     709.000000   15.000000    0.091956              0.011625   443.000000   \n",
       "75%     973.500000   27.500000    0.144618              0.021312   676.000000   \n",
       "max    1282.000000   79.000000    0.533333              0.061223  1872.000000   \n",
       "\n",
       "       nmf_topics  lda_topics  \n",
       "count  223.000000  223.000000  \n",
       "mean     4.775785    4.260090  \n",
       "std      2.596593    2.649932  \n",
       "min      0.000000    0.000000  \n",
       "25%      3.000000    3.000000  \n",
       "50%      5.000000    3.000000  \n",
       "75%      7.000000    6.000000  \n",
       "max      9.000000    9.000000  "
      ]
     },
     "execution_count": 40,
     "metadata": {},
     "output_type": "execute_result"
    }
   ],
   "source": [
    "df2= df[df['CurrentStatus']=='Ceased']\n",
    "df2.describe()\n"
   ]
  },
  {
   "cell_type": "code",
   "execution_count": 30,
   "metadata": {},
   "outputs": [
    {
     "data": {
      "text/plain": [
       "14.968609865470851"
      ]
     },
     "execution_count": 30,
     "metadata": {},
     "output_type": "execute_result"
    }
   ],
   "source": [
    "nonad_senti.mean()"
   ]
  },
  {
   "cell_type": "code",
   "execution_count": 66,
   "metadata": {},
   "outputs": [],
   "source": [
    "meandiff=ad_senti.mean()-nonad_senti.mean()"
   ]
  },
  {
   "cell_type": "code",
   "execution_count": 67,
   "metadata": {},
   "outputs": [
    {
     "data": {
      "text/plain": [
       "52.697927482315265"
      ]
     },
     "execution_count": 67,
     "metadata": {},
     "output_type": "execute_result"
    }
   ],
   "source": [
    "meandiff/ad_senti.mean()*100"
   ]
  },
  {
   "cell_type": "markdown",
   "metadata": {},
   "source": [
    "### Another method to test anova"
   ]
  },
  {
   "cell_type": "code",
   "execution_count": 48,
   "metadata": {},
   "outputs": [],
   "source": [
    "mt2 = ols('sentiment_normalised ~ C(CurrentStatus)', data = df).fit()"
   ]
  },
  {
   "cell_type": "code",
   "execution_count": 49,
   "metadata": {},
   "outputs": [
    {
     "data": {
      "text/html": [
       "<table class=\"simpletable\">\n",
       "<caption>OLS Regression Results</caption>\n",
       "<tr>\n",
       "  <th>Dep. Variable:</th>    <td>sentiment_normalised</td> <th>  R-squared:         </th> <td>   0.176</td>\n",
       "</tr>\n",
       "<tr>\n",
       "  <th>Model:</th>                     <td>OLS</td>         <th>  Adj. R-squared:    </th> <td>   0.175</td>\n",
       "</tr>\n",
       "<tr>\n",
       "  <th>Method:</th>               <td>Least Squares</td>    <th>  F-statistic:       </th> <td>   140.1</td>\n",
       "</tr>\n",
       "<tr>\n",
       "  <th>Date:</th>               <td>Thu, 25 Mar 2021</td>   <th>  Prob (F-statistic):</th> <td>7.56e-56</td>\n",
       "</tr>\n",
       "<tr>\n",
       "  <th>Time:</th>                   <td>15:43:26</td>       <th>  Log-Likelihood:    </th> <td>  3461.5</td>\n",
       "</tr>\n",
       "<tr>\n",
       "  <th>No. Observations:</th>        <td>  1313</td>        <th>  AIC:               </th> <td>  -6917.</td>\n",
       "</tr>\n",
       "<tr>\n",
       "  <th>Df Residuals:</th>            <td>  1310</td>        <th>  BIC:               </th> <td>  -6902.</td>\n",
       "</tr>\n",
       "<tr>\n",
       "  <th>Df Model:</th>                <td>     2</td>        <th>                     </th>     <td> </td>   \n",
       "</tr>\n",
       "<tr>\n",
       "  <th>Covariance Type:</th>        <td>nonrobust</td>      <th>                     </th>     <td> </td>   \n",
       "</tr>\n",
       "</table>\n",
       "<table class=\"simpletable\">\n",
       "<tr>\n",
       "                <td></td>                  <th>coef</th>     <th>std err</th>      <th>t</th>      <th>P>|t|</th>  <th>[0.025</th>    <th>0.975]</th>  \n",
       "</tr>\n",
       "<tr>\n",
       "  <th>Intercept</th>                    <td>    0.0116</td> <td>    0.001</td> <td>    9.984</td> <td> 0.000</td> <td>    0.009</td> <td>    0.014</td>\n",
       "</tr>\n",
       "<tr>\n",
       "  <th>C(CurrentStatus)[T.Complete]</th> <td>    0.0129</td> <td>    0.001</td> <td>   10.017</td> <td> 0.000</td> <td>    0.010</td> <td>    0.015</td>\n",
       "</tr>\n",
       "<tr>\n",
       "  <th>C(CurrentStatus)[T.Enrolled]</th> <td>   -0.0108</td> <td>    0.002</td> <td>   -5.680</td> <td> 0.000</td> <td>   -0.015</td> <td>   -0.007</td>\n",
       "</tr>\n",
       "</table>\n",
       "<table class=\"simpletable\">\n",
       "<tr>\n",
       "  <th>Omnibus:</th>       <td>58.876</td> <th>  Durbin-Watson:     </th> <td>   1.699</td>\n",
       "</tr>\n",
       "<tr>\n",
       "  <th>Prob(Omnibus):</th> <td> 0.000</td> <th>  Jarque-Bera (JB):  </th> <td> 187.577</td>\n",
       "</tr>\n",
       "<tr>\n",
       "  <th>Skew:</th>          <td>-0.014</td> <th>  Prob(JB):          </th> <td>1.85e-41</td>\n",
       "</tr>\n",
       "<tr>\n",
       "  <th>Kurtosis:</th>      <td> 4.851</td> <th>  Cond. No.          </th> <td>    6.03</td>\n",
       "</tr>\n",
       "</table><br/><br/>Warnings:<br/>[1] Standard Errors assume that the covariance matrix of the errors is correctly specified."
      ],
      "text/plain": [
       "<class 'statsmodels.iolib.summary.Summary'>\n",
       "\"\"\"\n",
       "                             OLS Regression Results                             \n",
       "================================================================================\n",
       "Dep. Variable:     sentiment_normalised   R-squared:                       0.176\n",
       "Model:                              OLS   Adj. R-squared:                  0.175\n",
       "Method:                   Least Squares   F-statistic:                     140.1\n",
       "Date:                  Thu, 25 Mar 2021   Prob (F-statistic):           7.56e-56\n",
       "Time:                          15:43:26   Log-Likelihood:                 3461.5\n",
       "No. Observations:                  1313   AIC:                            -6917.\n",
       "Df Residuals:                      1310   BIC:                            -6902.\n",
       "Df Model:                             2                                         \n",
       "Covariance Type:              nonrobust                                         \n",
       "================================================================================================\n",
       "                                   coef    std err          t      P>|t|      [0.025      0.975]\n",
       "------------------------------------------------------------------------------------------------\n",
       "Intercept                        0.0116      0.001      9.984      0.000       0.009       0.014\n",
       "C(CurrentStatus)[T.Complete]     0.0129      0.001     10.017      0.000       0.010       0.015\n",
       "C(CurrentStatus)[T.Enrolled]    -0.0108      0.002     -5.680      0.000      -0.015      -0.007\n",
       "==============================================================================\n",
       "Omnibus:                       58.876   Durbin-Watson:                   1.699\n",
       "Prob(Omnibus):                  0.000   Jarque-Bera (JB):              187.577\n",
       "Skew:                          -0.014   Prob(JB):                     1.85e-41\n",
       "Kurtosis:                       4.851   Cond. No.                         6.03\n",
       "==============================================================================\n",
       "\n",
       "Warnings:\n",
       "[1] Standard Errors assume that the covariance matrix of the errors is correctly specified.\n",
       "\"\"\""
      ]
     },
     "execution_count": 49,
     "metadata": {},
     "output_type": "execute_result"
    }
   ],
   "source": [
    "mt2.summary()"
   ]
  },
  {
   "cell_type": "code",
   "execution_count": 54,
   "metadata": {},
   "outputs": [
    {
     "data": {
      "text/html": [
       "<div>\n",
       "<style scoped>\n",
       "    .dataframe tbody tr th:only-of-type {\n",
       "        vertical-align: middle;\n",
       "    }\n",
       "\n",
       "    .dataframe tbody tr th {\n",
       "        vertical-align: top;\n",
       "    }\n",
       "\n",
       "    .dataframe thead th {\n",
       "        text-align: right;\n",
       "    }\n",
       "</style>\n",
       "<table border=\"1\" class=\"dataframe\">\n",
       "  <thead>\n",
       "    <tr style=\"text-align: right;\">\n",
       "      <th></th>\n",
       "      <th>sum_sq</th>\n",
       "      <th>df</th>\n",
       "      <th>F</th>\n",
       "      <th>PR(&gt;F)</th>\n",
       "    </tr>\n",
       "  </thead>\n",
       "  <tbody>\n",
       "    <tr>\n",
       "      <td>C(CurrentStatus)</td>\n",
       "      <td>0.084320</td>\n",
       "      <td>2.0</td>\n",
       "      <td>140.053239</td>\n",
       "      <td>7.560200e-56</td>\n",
       "    </tr>\n",
       "    <tr>\n",
       "      <td>Residual</td>\n",
       "      <td>0.394347</td>\n",
       "      <td>1310.0</td>\n",
       "      <td>NaN</td>\n",
       "      <td>NaN</td>\n",
       "    </tr>\n",
       "  </tbody>\n",
       "</table>\n",
       "</div>"
      ],
      "text/plain": [
       "                    sum_sq      df           F        PR(>F)\n",
       "C(CurrentStatus)  0.084320     2.0  140.053239  7.560200e-56\n",
       "Residual          0.394347  1310.0         NaN           NaN"
      ]
     },
     "execution_count": 54,
     "metadata": {},
     "output_type": "execute_result"
    }
   ],
   "source": [
    "sm.stats.anova_lm(mt2, typ=2)\n"
   ]
  },
  {
   "cell_type": "markdown",
   "metadata": {},
   "source": [
    "same result\n",
    "\n",
    "----------------\n",
    "\n",
    "\n",
    "### compare wordcount of different pt"
   ]
  },
  {
   "cell_type": "code",
   "execution_count": 55,
   "metadata": {},
   "outputs": [
    {
     "data": {
      "text/plain": [
       "(array([211., 270., 340., 258., 109.,  61.,  36.,  20.,   6.,   2.]),\n",
       " array([1.0000e+00, 2.1430e+02, 4.2760e+02, 6.4090e+02, 8.5420e+02,\n",
       "        1.0675e+03, 1.2808e+03, 1.4941e+03, 1.7074e+03, 1.9207e+03,\n",
       "        2.1340e+03]),\n",
       " <a list of 10 Patch objects>)"
      ]
     },
     "execution_count": 55,
     "metadata": {},
     "output_type": "execute_result"
    },
    {
     "data": {
      "image/png": "[encoded data removed]",
      "text/plain": [
       "<Figure size 432x288 with 1 Axes>"
      ]
     },
     "metadata": {
      "needs_background": "light"
     },
     "output_type": "display_data"
    }
   ],
   "source": [
    "plt.hist(df['wordcount'])"
   ]
  },
  {
   "cell_type": "code",
   "execution_count": 22,
   "metadata": {},
   "outputs": [],
   "source": [
    "ad_wordcount= df[df['CurrentStatus']=='Complete']['wordcount']\n",
    "nonad_wordcount = df[df['CurrentStatus']=='Ceased']['wordcount']"
   ]
  },
  {
   "cell_type": "code",
   "execution_count": 26,
   "metadata": {},
   "outputs": [
    {
     "data": {
      "text/plain": [
       "<matplotlib.legend.Legend at 0x1c284e24d0>"
      ]
     },
     "execution_count": 26,
     "metadata": {},
     "output_type": "execute_result"
    },
    {
     "data": {
      "image/png": "[encoded data removed]",
      "text/plain": [
       "<Figure size 432x288 with 1 Axes>"
      ]
     },
     "metadata": {
      "needs_background": "light"
     },
     "output_type": "display_data"
    }
   ],
   "source": [
    "bins= np.linspace(0,2000,50)\n",
    "plt.hist(ad_wordcount,alpha=0.5,label='adherent')\n",
    "plt.hist(nonad_wordcount,alpha=0.5,label='non-adherent')\n",
    "plt.legend()"
   ]
  },
  {
   "cell_type": "code",
   "execution_count": 57,
   "metadata": {},
   "outputs": [
    {
     "data": {
      "text/plain": [
       "(22.304814327259727, 3.229567895185e-06)"
      ]
     },
     "execution_count": 57,
     "metadata": {},
     "output_type": "execute_result"
    }
   ],
   "source": [
    "anova(ad_wordcount,nonad_wordcount,200)"
   ]
  },
  {
   "cell_type": "code",
   "execution_count": 58,
   "metadata": {},
   "outputs": [
    {
     "data": {
      "text/plain": [
       "500.6188340807175"
      ]
     },
     "execution_count": 58,
     "metadata": {},
     "output_type": "execute_result"
    }
   ],
   "source": [
    "nonad_wordcount.mean()"
   ]
  },
  {
   "cell_type": "code",
   "execution_count": 59,
   "metadata": {},
   "outputs": [
    {
     "data": {
      "text/plain": [
       "655.2988505747127"
      ]
     },
     "execution_count": 59,
     "metadata": {},
     "output_type": "execute_result"
    }
   ],
   "source": [
    "ad_wordcount.mean()"
   ]
  },
  {
   "cell_type": "code",
   "execution_count": 60,
   "metadata": {},
   "outputs": [
    {
     "data": {
      "text/plain": [
       "0.31"
      ]
     },
     "execution_count": 60,
     "metadata": {},
     "output_type": "execute_result"
    }
   ],
   "source": [
    "155/500"
   ]
  },
  {
   "cell_type": "markdown",
   "metadata": {},
   "source": [
    "### wordcount of complete pt is approximately 31% higher than that of ceased pt\n"
   ]
  },
  {
   "cell_type": "code",
   "execution_count": 68,
   "metadata": {},
   "outputs": [],
   "source": [
    "df = pd.read_csv('ptnotes_stat.csv')"
   ]
  },
  {
   "cell_type": "code",
   "execution_count": 69,
   "metadata": {},
   "outputs": [],
   "source": [
    "ad_senti= df[df['CurrentStatus']=='Complete']['sentiment_normalised']\n",
    "nonad_senti= df[df['CurrentStatus']=='Ceased']['sentiment_normalised']"
   ]
  },
  {
   "cell_type": "code",
   "execution_count": 74,
   "metadata": {},
   "outputs": [
    {
     "data": {
      "text/plain": [
       "(50.3082016164684, 1.4974861770415457e-12)"
      ]
     },
     "execution_count": 74,
     "metadata": {},
     "output_type": "execute_result"
    }
   ],
   "source": [
    "anova(ad_senti,nonad_senti,2500)"
   ]
  },
  {
   "cell_type": "code",
   "execution_count": 72,
   "metadata": {},
   "outputs": [
    {
     "data": {
      "text/plain": [
       "0.00272525624644999"
      ]
     },
     "execution_count": 72,
     "metadata": {},
     "output_type": "execute_result"
    }
   ],
   "source": [
    "ad_senti.mean()"
   ]
  },
  {
   "cell_type": "code",
   "execution_count": 73,
   "metadata": {},
   "outputs": [
    {
     "data": {
      "text/plain": [
       "0.0014659049298821724"
      ]
     },
     "execution_count": 73,
     "metadata": {},
     "output_type": "execute_result"
    }
   ],
   "source": [
    "nonad_senti.mean()"
   ]
  },
  {
   "cell_type": "code",
   "execution_count": 75,
   "metadata": {},
   "outputs": [
    {
     "name": "stdout",
     "output_type": "stream",
     "text": [
      "  Multiple Comparison of Means - Tukey HSD, FWER=0.05   \n",
      "========================================================\n",
      " group1   group2  meandiff p-adj   lower   upper  reject\n",
      "--------------------------------------------------------\n",
      "  Ceased Complete   0.0013  0.001   0.001  0.0016   True\n",
      "  Ceased Enrolled  -0.0005 0.6007 -0.0016  0.0007  False\n",
      "Complete Enrolled  -0.0017 0.0011 -0.0029 -0.0006   True\n",
      "--------------------------------------------------------\n"
     ]
    }
   ],
   "source": [
    "comp = mc.MultiComparison(df['sentiment_normalised'],df['CurrentStatus'])\n",
    "print(comp.tukeyhsd())"
   ]
  },
  {
   "cell_type": "code",
   "execution_count": 78,
   "metadata": {},
   "outputs": [
    {
     "data": {
      "text/plain": [
       "0.8868242227035094"
      ]
     },
     "execution_count": 78,
     "metadata": {},
     "output_type": "execute_result"
    }
   ],
   "source": [
    "0.0013/nonad_senti.mean()"
   ]
  },
  {
   "cell_type": "code",
   "execution_count": 79,
   "metadata": {},
   "outputs": [],
   "source": [
    "ad_wordcount= df[df['CurrentStatus']=='Complete']['wordcount']\n",
    "nonad_wordcount = df[df['CurrentStatus']=='Ceased']['wordcount']"
   ]
  },
  {
   "cell_type": "code",
   "execution_count": 83,
   "metadata": {},
   "outputs": [
    {
     "data": {
      "text/plain": [
       "(0.04153203521052679, 0.8385165863828802)"
      ]
     },
     "execution_count": 83,
     "metadata": {},
     "output_type": "execute_result"
    }
   ],
   "source": [
    "anova(ad_wordcount,ad_wordcount,9500)"
   ]
  },
  {
   "cell_type": "markdown",
   "metadata": {},
   "source": [
    "### For single piece of ptnotes, no significant difference between the wordcount of two type of pts."
   ]
  }
 ],
 "metadata": {
  "kernelspec": {
   "display_name": "Python 3",
   "language": "python",
   "name": "python3"
  },
  "language_info": {
   "codemirror_mode": {
    "name": "ipython",
    "version": 3
   },
   "file_extension": ".py",
   "mimetype": "text/x-python",
   "name": "python",
   "nbconvert_exporter": "python",
   "pygments_lexer": "ipython3",
   "version": "3.7.4"
  }
 },
 "nbformat": 4,
 "nbformat_minor": 2
}
