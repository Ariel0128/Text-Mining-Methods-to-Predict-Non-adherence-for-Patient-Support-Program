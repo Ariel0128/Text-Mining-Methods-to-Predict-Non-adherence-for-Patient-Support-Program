{
 "cells": [
  {
   "cell_type": "code",
   "execution_count": 31,
   "metadata": {},
   "outputs": [],
   "source": [
    "from keras.preprocessing.text import Tokenizer\n",
    "from keras.preprocessing.sequence import pad_sequences\n",
    "import pandas as pd\n",
    "import numpy as np\n",
    "from sklearn.model_selection import train_test_split\n"
   ]
  },
  {
   "cell_type": "code",
   "execution_count": 51,
   "metadata": {},
   "outputs": [
    {
     "data": {
      "text/html": [
       "<div>\n",
       "<style scoped>\n",
       "    .dataframe tbody tr th:only-of-type {\n",
       "        vertical-align: middle;\n",
       "    }\n",
       "\n",
       "    .dataframe tbody tr th {\n",
       "        vertical-align: top;\n",
       "    }\n",
       "\n",
       "    .dataframe thead th {\n",
       "        text-align: right;\n",
       "    }\n",
       "</style>\n",
       "<table border=\"1\" class=\"dataframe\">\n",
       "  <thead>\n",
       "    <tr style=\"text-align: right;\">\n",
       "      <th></th>\n",
       "      <th>Unnamed: 0</th>\n",
       "      <th>CurrentStatus</th>\n",
       "      <th>processed</th>\n",
       "    </tr>\n",
       "  </thead>\n",
       "  <tbody>\n",
       "    <tr>\n",
       "      <td>0</td>\n",
       "      <td>0</td>\n",
       "      <td>Complete</td>\n",
       "      <td>['call', '7', 'attempt', '1', 'message', 'left...</td>\n",
       "    </tr>\n",
       "    <tr>\n",
       "      <td>1</td>\n",
       "      <td>1</td>\n",
       "      <td>Complete</td>\n",
       "      <td>['welcome', 'call', 'advised', 'call', 'record...</td>\n",
       "    </tr>\n",
       "    <tr>\n",
       "      <td>2</td>\n",
       "      <td>2</td>\n",
       "      <td>Complete</td>\n",
       "      <td>['welcome', 'call', 'attempt', '1', 'engaged',...</td>\n",
       "    </tr>\n",
       "    <tr>\n",
       "      <td>3</td>\n",
       "      <td>3</td>\n",
       "      <td>Complete</td>\n",
       "      <td>['welcome', 'call', 'member', 'consented', 'pr...</td>\n",
       "    </tr>\n",
       "    <tr>\n",
       "      <td>4</td>\n",
       "      <td>4</td>\n",
       "      <td>Ceased</td>\n",
       "      <td>['welcome', 'call', 'attended', 'intended', 'r...</td>\n",
       "    </tr>\n",
       "  </tbody>\n",
       "</table>\n",
       "</div>"
      ],
      "text/plain": [
       "   Unnamed: 0 CurrentStatus                                          processed\n",
       "0           0      Complete  ['call', '7', 'attempt', '1', 'message', 'left...\n",
       "1           1      Complete  ['welcome', 'call', 'advised', 'call', 'record...\n",
       "2           2      Complete  ['welcome', 'call', 'attempt', '1', 'engaged',...\n",
       "3           3      Complete  ['welcome', 'call', 'member', 'consented', 'pr...\n",
       "4           4        Ceased  ['welcome', 'call', 'attended', 'intended', 'r..."
      ]
     },
     "execution_count": 51,
     "metadata": {},
     "output_type": "execute_result"
    }
   ],
   "source": [
    "df = pd.read_csv('rnn_df.csv')\n",
    "df.head()"
   ]
  },
  {
   "cell_type": "code",
   "execution_count": 52,
   "metadata": {},
   "outputs": [],
   "source": [
    "df = df.drop(df[df['CurrentStatus']=='Enrolled'].index)"
   ]
  },
  {
   "cell_type": "code",
   "execution_count": 53,
   "metadata": {},
   "outputs": [],
   "source": [
    "df['CurrentStatus'] = np.where(df['CurrentStatus']=='Complete', 1, 0)\n",
    "X_train, X_test, y_train, y_test = train_test_split(df['processed'],\n",
    "                                                    df['CurrentStatus'], test_size=0.2)"
   ]
  },
  {
   "cell_type": "code",
   "execution_count": 54,
   "metadata": {},
   "outputs": [],
   "source": [
    "X = df['processed']"
   ]
  },
  {
   "cell_type": "code",
   "execution_count": 55,
   "metadata": {},
   "outputs": [
    {
     "data": {
      "text/plain": [
       "1196    1\n",
       "748     0\n",
       "676     0\n",
       "382     0\n",
       "402     1\n",
       "       ..\n",
       "510     1\n",
       "561     1\n",
       "35      1\n",
       "1003    1\n",
       "878     1\n",
       "Name: CurrentStatus, Length: 944, dtype: int64"
      ]
     },
     "execution_count": 55,
     "metadata": {},
     "output_type": "execute_result"
    }
   ],
   "source": [
    "y_train"
   ]
  },
  {
   "cell_type": "code",
   "execution_count": 56,
   "metadata": {},
   "outputs": [],
   "source": [
    "tokenizer = Tokenizer()\n",
    "tokenizer.fit_on_texts(X_train)"
   ]
  },
  {
   "cell_type": "code",
   "execution_count": 57,
   "metadata": {},
   "outputs": [],
   "source": [
    "X_train_seq = tokenizer.texts_to_sequences(X_train)\n",
    "X_test_seq = tokenizer.texts_to_sequences(X_test)"
   ]
  },
  {
   "cell_type": "code",
   "execution_count": 58,
   "metadata": {},
   "outputs": [],
   "source": [
    "#make each seq of the same length; if short it will pad, if long it will cut down\n",
    "X_train_seq_padded = pad_sequences(X_train_seq, 50)\n",
    "X_test_seq_padded = pad_sequences(X_test_seq, 50)"
   ]
  },
  {
   "cell_type": "code",
   "execution_count": 59,
   "metadata": {},
   "outputs": [],
   "source": [
    "import keras.backend as K\n",
    "from keras.layers import Dense, Embedding, LSTM\n",
    "from keras.models import Sequential\n",
    "\n",
    "def recall_m(y_true, y_pred):\n",
    "        true_positives = K.sum(K.round(K.clip(y_true * y_pred, 0, 1)))\n",
    "        possible_positives = K.sum(K.round(K.clip(y_true, 0, 1)))\n",
    "        recall = true_positives / (possible_positives + K.epsilon())\n",
    "        return recall\n",
    "\n",
    "def precision_m(y_true, y_pred):\n",
    "        true_positives = K.sum(K.round(K.clip(y_true * y_pred, 0, 1)))\n",
    "        predicted_positives = K.sum(K.round(K.clip(y_pred, 0, 1)))\n",
    "        precision = true_positives / (predicted_positives + K.epsilon())\n",
    "        return precision"
   ]
  },
  {
   "cell_type": "code",
   "execution_count": 60,
   "metadata": {},
   "outputs": [
    {
     "name": "stdout",
     "output_type": "stream",
     "text": [
      "Model: \"sequential_2\"\n",
      "_________________________________________________________________\n",
      "Layer (type)                 Output Shape              Param #   \n",
      "=================================================================\n",
      "embedding_2 (Embedding)      (None, None, 32)          384384    \n",
      "_________________________________________________________________\n",
      "lstm_2 (LSTM)                (None, 32)                8320      \n",
      "_________________________________________________________________\n",
      "dense_4 (Dense)              (None, 32)                1056      \n",
      "_________________________________________________________________\n",
      "dense_5 (Dense)              (None, 1)                 33        \n",
      "=================================================================\n",
      "Total params: 393,793\n",
      "Trainable params: 393,793\n",
      "Non-trainable params: 0\n",
      "_________________________________________________________________\n"
     ]
    }
   ],
   "source": [
    "#should tune the number of output dimentionality\n",
    "model = Sequential()\n",
    "\n",
    "model.add(Embedding(len(tokenizer.index_word)+1, 32))\n",
    "model.add(LSTM(32, dropout=0, recurrent_dropout=0))\n",
    "model.add(Dense(32, activation='relu'))\n",
    "model.add(Dense(1, activation='sigmoid'))\n",
    "model.summary()"
   ]
  },
  {
   "cell_type": "code",
   "execution_count": 61,
   "metadata": {},
   "outputs": [],
   "source": [
    "model.compile(optimizer='adam',\n",
    "              loss='binary_crossentropy',\n",
    "              metrics=['accuracy', precision_m, recall_m])"
   ]
  },
  {
   "cell_type": "code",
   "execution_count": 62,
   "metadata": {},
   "outputs": [
    {
     "name": "stdout",
     "output_type": "stream",
     "text": [
      "Epoch 1/10\n",
      "30/30 [==============================] - 4s 59ms/step - loss: 0.6580 - accuracy: 0.7651 - precision_m: 0.7887 - recall_m: 0.9370 - val_loss: 0.4198 - val_accuracy: 0.8475 - val_precision_m: 0.8398 - val_recall_m: 1.0000\n",
      "Epoch 2/10\n",
      "30/30 [==============================] - 1s 33ms/step - loss: 0.4557 - accuracy: 0.8000 - precision_m: 0.8002 - recall_m: 1.0000 - val_loss: 0.3085 - val_accuracy: 0.8686 - val_precision_m: 0.8617 - val_recall_m: 1.0000\n",
      "Epoch 3/10\n",
      "30/30 [==============================] - 1s 34ms/step - loss: 0.2775 - accuracy: 0.8505 - precision_m: 0.8525 - recall_m: 0.9821 - val_loss: 0.2936 - val_accuracy: 0.8602 - val_precision_m: 0.9302 - val_recall_m: 0.9178\n",
      "Epoch 4/10\n",
      "30/30 [==============================] - 1s 32ms/step - loss: 0.1921 - accuracy: 0.9200 - precision_m: 0.9423 - recall_m: 0.9559 - val_loss: 0.3609 - val_accuracy: 0.8941 - val_precision_m: 0.9332 - val_recall_m: 0.9560\n",
      "Epoch 5/10\n",
      "30/30 [==============================] - 1s 32ms/step - loss: 0.1275 - accuracy: 0.9590 - precision_m: 0.9774 - recall_m: 0.9694 - val_loss: 0.3696 - val_accuracy: 0.8941 - val_precision_m: 0.9364 - val_recall_m: 0.9503\n",
      "Epoch 6/10\n",
      "30/30 [==============================] - 1s 33ms/step - loss: 0.0782 - accuracy: 0.9765 - precision_m: 0.9981 - recall_m: 0.9727 - val_loss: 0.3470 - val_accuracy: 0.8983 - val_precision_m: 0.9365 - val_recall_m: 0.9545\n",
      "Epoch 7/10\n",
      "30/30 [==============================] - 1s 33ms/step - loss: 0.0384 - accuracy: 0.9914 - precision_m: 0.9995 - recall_m: 0.9891 - val_loss: 0.3210 - val_accuracy: 0.9068 - val_precision_m: 0.9491 - val_recall_m: 0.9499\n",
      "Epoch 8/10\n",
      "30/30 [==============================] - 2s 51ms/step - loss: 0.0516 - accuracy: 0.9854 - precision_m: 0.9900 - recall_m: 0.9923 - val_loss: 0.3277 - val_accuracy: 0.9068 - val_precision_m: 0.9491 - val_recall_m: 0.9502\n",
      "Epoch 9/10\n",
      "30/30 [==============================] - 1s 34ms/step - loss: 0.0243 - accuracy: 0.9965 - precision_m: 0.9985 - recall_m: 0.9973 - val_loss: 0.3863 - val_accuracy: 0.8941 - val_precision_m: 0.9361 - val_recall_m: 0.9500\n",
      "Epoch 10/10\n",
      "30/30 [==============================] - 1s 38ms/step - loss: 0.0168 - accuracy: 0.9971 - precision_m: 0.9990 - recall_m: 0.9975 - val_loss: 0.3642 - val_accuracy: 0.8898 - val_precision_m: 0.9529 - val_recall_m: 0.9090\n"
     ]
    }
   ],
   "source": [
    "\n",
    "# Fit the RNN\n",
    "history = model.fit(X_train_seq_padded, y_train, \n",
    "                    batch_size=32, epochs=10,\n",
    "                    validation_data=(X_test_seq_padded, y_test))"
   ]
  },
  {
   "cell_type": "code",
   "execution_count": null,
   "metadata": {},
   "outputs": [],
   "source": []
  }
 ],
 "metadata": {
  "kernelspec": {
   "display_name": "Python 3",
   "language": "python",
   "name": "python3"
  },
  "language_info": {
   "codemirror_mode": {
    "name": "ipython",
    "version": 3
   },
   "file_extension": ".py",
   "mimetype": "text/x-python",
   "name": "python",
   "nbconvert_exporter": "python",
   "pygments_lexer": "ipython3",
   "version": "3.7.4"
  }
 },
 "nbformat": 4,
 "nbformat_minor": 2
}
