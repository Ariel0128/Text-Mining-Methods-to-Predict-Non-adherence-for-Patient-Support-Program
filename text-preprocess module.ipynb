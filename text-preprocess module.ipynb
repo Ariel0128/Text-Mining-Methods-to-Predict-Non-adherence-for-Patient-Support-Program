{
 "cells": [
  {
   "cell_type": "code",
   "execution_count": 28,
   "metadata": {},
   "outputs": [],
   "source": [
    "import contractions\n",
    "from nltk.corpus import stopwords, wordnet\n",
    "import nltk\n",
    "from nltk.tokenize import word_tokenize\n",
    "import string\n",
    "from textblob import TextBlob\n",
    "from afinn import Afinn"
   ]
  },
  {
   "cell_type": "code",
   "execution_count": 2,
   "metadata": {},
   "outputs": [],
   "source": [
    "def expand(text):\n",
    "    text_nocontract = [contractions.fix(word) for word in text.split()]\n",
    "    text = ' '.join(text_nocontract)\n",
    "    return text"
   ]
  },
  {
   "cell_type": "code",
   "execution_count": 4,
   "metadata": {},
   "outputs": [
    {
     "data": {
      "text/plain": [
       "\"my name's ann, I am sixteen.\""
      ]
     },
     "execution_count": 4,
     "metadata": {},
     "output_type": "execute_result"
    }
   ],
   "source": [
    "expand(\"my name's ann, I'm sixteen.\")"
   ]
  },
  {
   "cell_type": "code",
   "execution_count": 3,
   "metadata": {},
   "outputs": [],
   "source": [
    "#expand contractions, Tokenize, convert to lowercase, remove punctuation, remove stop words, lemmatize\n",
    "def preprocess(text):\n",
    "    punc = string.punctuation\n",
    "    stop_words = set(stopwords.words('english'))\n",
    "    wn = nltk.WordNetLemmatizer()\n",
    "    \n",
    "    text_nocontract = [contractions.fix(word) for word in text.split()]\n",
    "    text = ' '.join(text_nocontract)\n",
    "    tokens= word_tokenize(text)\n",
    "    tokens= [word.lower() for word in tokens]\n",
    "    tokens= [word for word in tokens if word not in punc]\n",
    "    tokens= [word for word in tokens if word not in stop_words]\n",
    "    tokens= [wn.lemmatize(word) for word in tokens]\n",
    "    return(tokens)"
   ]
  },
  {
   "cell_type": "code",
   "execution_count": 6,
   "metadata": {},
   "outputs": [
    {
     "data": {
      "text/plain": [
       "'!\"#$%&\\'()*+,-./:;<=>?@[\\\\]^_`{|}~'"
      ]
     },
     "execution_count": 6,
     "metadata": {},
     "output_type": "execute_result"
    }
   ],
   "source": [
    "string.punctuation"
   ]
  },
  {
   "cell_type": "code",
   "execution_count": 7,
   "metadata": {},
   "outputs": [],
   "source": [
    "senten1=' '.join(preprocess(\"I CAN'T SLEEP well. no records\"))"
   ]
  },
  {
   "cell_type": "code",
   "execution_count": 8,
   "metadata": {},
   "outputs": [],
   "source": [
    "def preprocess2(text):\n",
    "    punc = string.punctuation\n",
    "    stop_words = set(stopwords.words('english'))\n",
    "    wn = nltk.WordNetLemmatizer()\n",
    "    \n",
    "    text_nocontract = [contractions.fix(word) for word in text.split()]\n",
    "    text = ' '.join(text_nocontract)\n",
    "    tokens= word_tokenize(text)\n",
    "    tokens= [word.lower() for word in tokens]\n",
    "    tokens= [word for word in tokens if word not in punc]\n",
    "    tokens= [wn.lemmatize(word) for word in tokens]\n",
    "    return(tokens)"
   ]
  },
  {
   "cell_type": "code",
   "execution_count": null,
   "metadata": {},
   "outputs": [],
   "source": [
    "def tagnlem(text):\n",
    "    tags = text.tags"
   ]
  },
  {
   "cell_type": "code",
   "execution_count": 86,
   "metadata": {},
   "outputs": [],
   "source": [
    "def charcount(text):\n",
    "    char = ''.join(text)\n",
    "    count = len(char)\n",
    "    return count"
   ]
  },
  {
   "cell_type": "code",
   "execution_count": 1,
   "metadata": {},
   "outputs": [],
   "source": [
    "import re"
   ]
  },
  {
   "cell_type": "code",
   "execution_count": 24,
   "metadata": {},
   "outputs": [],
   "source": [
    "notes = 'Welcome call - attempt 1 - call 4. hi my name. Call 4. no answer.'"
   ]
  },
  {
   "cell_type": "code",
   "execution_count": 8,
   "metadata": {},
   "outputs": [
    {
     "data": {
      "text/plain": [
       "'  - attempt 1 - call 4. hi my name.'"
      ]
     },
     "execution_count": 8,
     "metadata": {},
     "output_type": "execute_result"
    }
   ],
   "source": [
    "re.sub('Welcome call',' ',notes)"
   ]
  },
  {
   "cell_type": "code",
   "execution_count": 22,
   "metadata": {},
   "outputs": [
    {
     "data": {
      "text/plain": [
       "'welcome call - attempt 1 -  hi my name. '"
      ]
     },
     "execution_count": 22,
     "metadata": {},
     "output_type": "execute_result"
    }
   ],
   "source": [
    "re.sub('call [0-9].', '',notes1)"
   ]
  },
  {
   "cell_type": "code",
   "execution_count": 17,
   "metadata": {},
   "outputs": [],
   "source": [
    "notes1= notes.lower()"
   ]
  },
  {
   "cell_type": "code",
   "execution_count": null,
   "metadata": {},
   "outputs": [],
   "source": [
    "def denurse(text):\n",
    "    punc = string.punctuation\n",
    "    stop_words = set(stopwords.words('english'))\n",
    "    wn = nltk.WordNetLemmatizer()\n",
    "    \n",
    "    text_nocontract = [contractions.fix(word) for word in text.split()]\n",
    "    text = ' '.join(text_nocontract)\n",
    "    text = text.lower()\n",
    "    text = re.sub('call [0-9]','',text)\n",
    "    text = re.sub('welcome call','',text)\n",
    "    text = re.sub('attempt [0-9]','',text)\n",
    "    text = re.sub('nurse call [0-9]','',text)\n",
    "    text = re.sub('no further information disclosed','',text)\n",
    "    text = re.sub('message left','',text)\n",
    "    text = re.sub('call rescheduled','',text)\n",
    "    text = re.sub('message left on voicemail','',text)\n",
    "    text = re.sub('no response to cc letter','',text)\n",
    "    text = re.sub('no further message left cc letter activated','',text)\n",
    "    text = re.sub('cc letter activated','',text)\n",
    "    text = re.sub('no response to messages left or cc letter','',text)        \n",
    "    text = re.sub('no answer','',text)\n",
    "    text = re.sub('cc letter sent','',text)\n",
    "    text = re.sub('recorded voicemail','',text)\n",
    "    text = re.sub('recorded message','',text)\n",
    "    text = re.sub('1st attempt','',text)\n",
    "    text = re.sub('2nd attempt','',text)\n",
    "    text = re.sub('no recorded message','',text)\n",
    "\n",
    " \n",
    "    \n",
    "    tokens= word_tokenize(text)\n",
    "    tokens= [word for word in tokens if word not in punc]\n",
    "    tokens= [word for word in tokens if word not in stop_words]\n",
    "    tokens= [wn.lemmatize(word) for word in tokens]\n",
    "    return(tokens)"
   ]
  },
  {
   "cell_type": "code",
   "execution_count": 30,
   "metadata": {},
   "outputs": [],
   "source": [
    "def denurse(text):\n",
    "    punc = string.punctuation\n",
    "    stop_words = set(stopwords.words('english'))\n",
    "    wn = nltk.WordNetLemmatizer()\n",
    "    phrases= ['no answer','call [0-9]','welcome call','attempt [0-9]','nurse call [0-9]',\n",
    "             'no further information disclosed','message left','call rescheduled','message left on voicemail',\n",
    "             'no response to cc letter','no further message left cc letter activated','cc letter activated',\n",
    "             'cc letter sent','recorded voicemail','recorded message','1st attempt','2nd attempt',\n",
    "             'no recorded message']\n",
    "    \n",
    "    text_nocontract = [contractions.fix(word) for word in text.split()]\n",
    "    text = ' '.join(text_nocontract)\n",
    "    text = text.lower()\n",
    "    for phrase in phrases:\n",
    "        text = re.sub(phrase,'',text)\n",
    "    \n",
    "    tokens= word_tokenize(text)\n",
    "    tokens= [word for word in tokens if word not in punc]\n",
    "    tokens= [word for word in tokens if word not in stop_words]\n",
    "    tokens= [wn.lemmatize(word) for word in tokens]\n",
    "    return(tokens)"
   ]
  },
  {
   "cell_type": "code",
   "execution_count": 31,
   "metadata": {},
   "outputs": [
    {
     "data": {
      "text/plain": [
       "['hi', 'name']"
      ]
     },
     "execution_count": 31,
     "metadata": {},
     "output_type": "execute_result"
    }
   ],
   "source": [
    "denurse(notes)"
   ]
  },
  {
   "cell_type": "code",
   "execution_count": null,
   "metadata": {},
   "outputs": [],
   "source": []
  }
 ],
 "metadata": {
  "kernelspec": {
   "display_name": "Python 3",
   "language": "python",
   "name": "python3"
  },
  "language_info": {
   "codemirror_mode": {
    "name": "ipython",
    "version": 3
   },
   "file_extension": ".py",
   "mimetype": "text/x-python",
   "name": "python",
   "nbconvert_exporter": "python",
   "pygments_lexer": "ipython3",
   "version": "3.7.4"
  }
 },
 "nbformat": 4,
 "nbformat_minor": 2
}
